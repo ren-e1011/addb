{
 "cells": [
  {
   "cell_type": "code",
   "execution_count": 1,
   "metadata": {},
   "outputs": [],
   "source": [
    "import pylangacq as pla"
   ]
  },
  {
   "cell_type": "code",
   "execution_count": 2,
   "metadata": {},
   "outputs": [],
   "source": [
    "import numpy as np"
   ]
  },
  {
   "cell_type": "code",
   "execution_count": 3,
   "metadata": {},
   "outputs": [],
   "source": [
    "import pandas as pd"
   ]
  },
  {
   "cell_type": "code",
   "execution_count": 4,
   "metadata": {},
   "outputs": [],
   "source": [
    "import glob"
   ]
  },
  {
   "cell_type": "code",
   "execution_count": 5,
   "metadata": {},
   "outputs": [],
   "source": [
    "import os"
   ]
  },
  {
   "cell_type": "code",
   "execution_count": 6,
   "metadata": {},
   "outputs": [
    {
     "data": {
      "text/plain": [
       "'0.11.0'"
      ]
     },
     "execution_count": 6,
     "metadata": {},
     "output_type": "execute_result"
    }
   ],
   "source": [
    "pla.__version__"
   ]
  },
  {
   "cell_type": "code",
   "execution_count": 7,
   "metadata": {},
   "outputs": [],
   "source": [
    "# data = pla.read_chat('./Pitt/*.cha')"
   ]
  },
  {
   "cell_type": "markdown",
   "metadata": {},
   "source": [
    "Data grab"
   ]
  },
  {
   "cell_type": "code",
   "execution_count": 8,
   "metadata": {},
   "outputs": [],
   "source": [
    "cookie_data = pla.read_chat('./Pitt/*/cookie/*.cha')"
   ]
  },
  {
   "cell_type": "code",
   "execution_count": 9,
   "metadata": {},
   "outputs": [],
   "source": [
    "sentence_data = pla.read_chat('./Pitt/*/sentence/*.cha')"
   ]
  },
  {
   "cell_type": "code",
   "execution_count": 10,
   "metadata": {},
   "outputs": [],
   "source": [
    "sentence_fnames = glob.glob(os.getcwd()+'/Pitt/*/sentence/*.cha')"
   ]
  },
  {
   "cell_type": "code",
   "execution_count": 14,
   "metadata": {},
   "outputs": [],
   "source": [
    "sentence_fnames = sorted(sentence_fnames)"
   ]
  },
  {
   "cell_type": "code",
   "execution_count": 15,
   "metadata": {},
   "outputs": [
    {
     "data": {
      "text/plain": [
       "'/Users/renee/Documents/WIS_Spr20/DL/FinalProj/Pitt/Dementia/sentence/001-0.cha'"
      ]
     },
     "execution_count": 15,
     "metadata": {},
     "output_type": "execute_result"
    }
   ],
   "source": [
    "sentence_fnames[0]"
   ]
  },
  {
   "cell_type": "code",
   "execution_count": 16,
   "metadata": {},
   "outputs": [],
   "source": [
    "# Control, Dementia\n",
    "cookie_fnames = glob.glob(os.getcwd()+'/Pitt/*/cookie/*.cha')"
   ]
  },
  {
   "cell_type": "code",
   "execution_count": 17,
   "metadata": {},
   "outputs": [],
   "source": [
    "cookie_fnames = sorted(cookie_fnames)"
   ]
  },
  {
   "cell_type": "markdown",
   "metadata": {},
   "source": [
    "Data exploration"
   ]
  },
  {
   "cell_type": "code",
   "execution_count": 18,
   "metadata": {},
   "outputs": [
    {
     "data": {
      "text/plain": [
       "552"
      ]
     },
     "execution_count": 18,
     "metadata": {},
     "output_type": "execute_result"
    }
   ],
   "source": [
    "len(cookie_data)"
   ]
  },
  {
   "cell_type": "code",
   "execution_count": 19,
   "metadata": {},
   "outputs": [
    {
     "data": {
      "text/plain": [
       "240"
      ]
     },
     "execution_count": 19,
     "metadata": {},
     "output_type": "execute_result"
    }
   ],
   "source": [
    "len(sentence_data)"
   ]
  },
  {
   "cell_type": "code",
   "execution_count": 20,
   "metadata": {},
   "outputs": [
    {
     "data": {
      "text/plain": [
       "7054"
      ]
     },
     "execution_count": 20,
     "metadata": {},
     "output_type": "execute_result"
    }
   ],
   "source": [
    "cookie_data.number_of_utterances('PAR')"
   ]
  },
  {
   "cell_type": "markdown",
   "metadata": {},
   "source": [
    "Targets (MMSE scores)"
   ]
  },
  {
   "cell_type": "code",
   "execution_count": 21,
   "metadata": {},
   "outputs": [],
   "source": [
    "# fill missing mmse with group's mean mmse\n",
    "def get_targets(dataset,filenames):\n",
    "    \n",
    "    targets = []\n",
    "    groups = {}\n",
    "    \n",
    "#     for fname in sorted(filenames):\n",
    "    for fname in filenames:\n",
    "        # PAR MMSE\n",
    "#         print(fname)\n",
    "        target = dataset.headers()[fname]['Participants']['PAR']['education']\n",
    "        group = dataset.headers()[fname]['Participants']['PAR']['group']\n",
    "        \n",
    "        # to be replaced with group mean\n",
    "        if target is '':\n",
    "            targets.append(group)\n",
    "            \n",
    "        else:\n",
    "            targets.append(int(target))\n",
    "            if group in groups.keys():\n",
    "                groups[group].append(int(target))\n",
    "            else:\n",
    "                groups[group] = [int(target)]\n",
    "                \n",
    "#     print('targets',targets)            \n",
    "#     print('groups',groups)\n",
    "    \n",
    "    for g in groups.keys():\n",
    "        m = np.mean(groups[g])\n",
    "        groups[g] = int(m) if m % 1 > 5 else int(m) + 1\n",
    "    \n",
    "    #TODO replace with tensor\n",
    "    targetseries = pd.Series(targets)\n",
    "    \n",
    "#     print('groups_mean',groups)\n",
    "    \n",
    "    for g in groups.keys():\n",
    "        targetseries[[i for i,x in enumerate(targets) if x==g]] = groups[g]\n",
    "\n",
    "    return targetseries"
   ]
  },
  {
   "cell_type": "code",
   "execution_count": 22,
   "metadata": {},
   "outputs": [],
   "source": [
    "sentence_data_targets = get_targets(sentence_data,sentence_fnames)"
   ]
  },
  {
   "cell_type": "code",
   "execution_count": 23,
   "metadata": {},
   "outputs": [],
   "source": [
    "cookie_data_targets = get_targets(cookie_data,cookie_fnames)"
   ]
  },
  {
   "cell_type": "code",
   "execution_count": 19,
   "metadata": {},
   "outputs": [
    {
     "data": {
      "text/plain": [
       "True"
      ]
     },
     "execution_count": 19,
     "metadata": {},
     "output_type": "execute_result"
    }
   ],
   "source": [
    "len(sentence_data_targets) == len(sentence_data)"
   ]
  },
  {
   "cell_type": "code",
   "execution_count": 20,
   "metadata": {},
   "outputs": [
    {
     "data": {
      "text/plain": [
       "True"
      ]
     },
     "execution_count": 20,
     "metadata": {},
     "output_type": "execute_result"
    }
   ],
   "source": [
    "len(cookie_data_targets) == len(cookie_data)"
   ]
  },
  {
   "cell_type": "markdown",
   "metadata": {},
   "source": [
    "BUILD VOCAB"
   ]
  },
  {
   "cell_type": "code",
   "execution_count": 71,
   "metadata": {},
   "outputs": [],
   "source": [
    "vocabset = set()"
   ]
  },
  {
   "cell_type": "code",
   "execution_count": 63,
   "metadata": {},
   "outputs": [
    {
     "data": {
      "text/plain": [
       "552"
      ]
     },
     "execution_count": 63,
     "metadata": {},
     "output_type": "execute_result"
    }
   ],
   "source": [
    "len(cookie_fnames)"
   ]
  },
  {
   "cell_type": "code",
   "execution_count": 72,
   "metadata": {},
   "outputs": [],
   "source": [
    "for corpus,data in [(cookie_fnames,cookie_data),(sentence_fnames,sentence_data)]: \n",
    "    for i in range(len(corpus)):\n",
    "        tokens = set([tokenraw for sent in data.tagged_sents(participant='PAR',by_files=True)[corpus[i]] for (tokenraw,pos,tokenstem,dependency) in sent])\n",
    "        vocabset.update(tokens)"
   ]
  },
  {
   "cell_type": "code",
   "execution_count": 74,
   "metadata": {},
   "outputs": [
    {
     "data": {
      "text/plain": [
       "2188"
      ]
     },
     "execution_count": 74,
     "metadata": {},
     "output_type": "execute_result"
    }
   ],
   "source": [
    "len(vocabset)"
   ]
  },
  {
   "cell_type": "code",
   "execution_count": null,
   "metadata": {},
   "outputs": [],
   "source": [
    "for i in range(len(sentence_fnames)):"
   ]
  },
  {
   "cell_type": "markdown",
   "metadata": {},
   "source": [
    "BUILD MOR: POS + GRAMMATICAL CATEGORIES"
   ]
  },
  {
   "cell_type": "code",
   "execution_count": 75,
   "metadata": {},
   "outputs": [],
   "source": [
    "posset = set()"
   ]
  },
  {
   "cell_type": "code",
   "execution_count": 76,
   "metadata": {},
   "outputs": [],
   "source": [
    "for corpus,data in [(cookie_fnames,cookie_data),(sentence_fnames,sentence_data)]: \n",
    "    for i in range(len(corpus)):\n",
    "        pos = set([pos for sent in data.tagged_sents(participant='PAR',by_files=True)[corpus[i]] for (tokenraw,pos,tokenstem,dependency) in sent])\n",
    "        posset.update(pos)"
   ]
  },
  {
   "cell_type": "code",
   "execution_count": 77,
   "metadata": {},
   "outputs": [
    {
     "data": {
      "text/plain": [
       "13"
      ]
     },
     "execution_count": 77,
     "metadata": {},
     "output_type": "execute_result"
    }
   ],
   "source": [
    "len(pos)"
   ]
  },
  {
   "cell_type": "code",
   "execution_count": 78,
   "metadata": {},
   "outputs": [
    {
     "data": {
      "text/plain": [
       "{'',\n",
       " '+...',\n",
       " '.',\n",
       " 'ADV',\n",
       " 'CO',\n",
       " 'COP',\n",
       " 'DET:ART',\n",
       " 'DET:POSS',\n",
       " 'META',\n",
       " 'N',\n",
       " 'PREP',\n",
       " 'PRO:SUB',\n",
       " 'V'}"
      ]
     },
     "execution_count": 78,
     "metadata": {},
     "output_type": "execute_result"
    }
   ],
   "source": [
    "pos"
   ]
  },
  {
   "cell_type": "markdown",
   "metadata": {},
   "source": [
    "CLEAN POS, VOCAB"
   ]
  },
  {
   "cell_type": "code",
   "execution_count": 29,
   "metadata": {},
   "outputs": [
    {
     "data": {
      "text/plain": [
       "'/Users/renee/Documents/WIS_Spr20/DL/FinalProj/Pitt/Control/cookie/002-0.cha'"
      ]
     },
     "execution_count": 29,
     "metadata": {},
     "output_type": "execute_result"
    }
   ],
   "source": [
    "cookie_fnames[0]"
   ]
  },
  {
   "cell_type": "code",
   "execution_count": 28,
   "metadata": {},
   "outputs": [
    {
     "data": {
      "text/plain": [
       "[('PAR', 'the scene is in the kitchen .'),\n",
       " ('PAR',\n",
       "  'the mother is wiping dishes and the water is running on the floor .'),\n",
       " ('PAR',\n",
       "  \"a boy is tryin(g) to get cookies out of a jar and he's about to tip over on a stool .\"),\n",
       " ('PAR', 'the little girl is reacting to his falling .'),\n",
       " ('PAR', 'it seems to be summer out .'),\n",
       " ('PAR', 'the window is open .'),\n",
       " ('PAR', 'the curtains are blowing .'),\n",
       " ('PAR', 'it must be a gentle breeze .'),\n",
       " ('PAR', \"there's grass outside in the garden .\"),\n",
       " ('PAR', \"mother's finished certain of the dishes .\"),\n",
       " ('PAR', \"kitchen's very tidy .\"),\n",
       " ('PAR',\n",
       "  'the mother seems to have nothing in the house to eat except cookies in the cookie jar .'),\n",
       " ('PAR', 'the children look to be almost about the same size .'),\n",
       " ('PAR', \"perhaps they're twins .\"),\n",
       " ('PAR', \"they're dressed for summer warm weather .\"),\n",
       " ('PAR', 'you want more ?'),\n",
       " ('PAR', \"the mother's in a short sleeve dress .\"),\n",
       " ('PAR', \"I'll hafta say it's warm .\")]"
      ]
     },
     "execution_count": 28,
     "metadata": {},
     "output_type": "execute_result"
    }
   ],
   "source": [
    "cookie_data.utterances(participant='PAR',by_files=True)[cookie_fnames[0]]"
   ]
  },
  {
   "cell_type": "code",
   "execution_count": 33,
   "metadata": {},
   "outputs": [
    {
     "data": {
      "text/plain": [
       "[('PAR', 'I wrote with my pencil .'),\n",
       " ('PAR', 'the tree is beautiful .'),\n",
       " ('PAR', 'the child was taken to the hospital .'),\n",
       " ('PAR', \"I can't think of any right now .\"),\n",
       " ('PAR', 'I +...')]"
      ]
     },
     "execution_count": 33,
     "metadata": {},
     "output_type": "execute_result"
    }
   ],
   "source": [
    "#utterances for one PAR - 468-0\n",
    "sentence_data.utterances(participant='PAR',by_files=True)[sentence_fnames[0]]"
   ]
  },
  {
   "cell_type": "code",
   "execution_count": 58,
   "metadata": {},
   "outputs": [
    {
     "data": {
      "text/plain": [
       "['I broke my pencil .',\n",
       " 'the tree is +...',\n",
       " 'no wait a minute I wanna get something in there .',\n",
       " 'the tree fell down .',\n",
       " 'mhm .',\n",
       " 'the child was sent to the hospital .',\n",
       " 'cold@q winter@q ?',\n",
       " 'we had a cold winter in the last winter .',\n",
       " 'that right ?',\n",
       " 'our last winter was cold .',\n",
       " 'chair@q doctor@q and sit@q ?',\n",
       " 'the doctor sat in his chair .',\n",
       " 'the +...',\n",
       " 'I open the bureau drawer .']"
      ]
     },
     "execution_count": 58,
     "metadata": {},
     "output_type": "execute_result"
    }
   ],
   "source": [
    "[sent for (partag,sent) in sentence_data.utterances(participant='PAR',by_files=True)[sentence_fnames[1]]]"
   ]
  },
  {
   "cell_type": "code",
   "execution_count": 57,
   "metadata": {},
   "outputs": [
    {
     "data": {
      "text/plain": [
       "[[('I', 'PRO:SUB', 'I', (1, 2, 'SUBJ')),\n",
       "  ('wrote', 'V', 'write&PAST', (2, 0, 'ROOT')),\n",
       "  ('with', 'PREP', 'with', (3, 2, 'JCT')),\n",
       "  ('my', 'DET:POSS', 'my', (4, 5, 'DET')),\n",
       "  ('pencil', 'N', 'pencil', (5, 3, 'POBJ')),\n",
       "  ('.', '.', '', (6, 2, 'PUNCT'))],\n",
       " [('the', 'DET:ART', 'the', (1, 2, 'DET')),\n",
       "  ('tree', 'N', 'tree', (2, 3, 'SUBJ')),\n",
       "  ('is', 'COP', 'be&3S', (3, 0, 'ROOT')),\n",
       "  ('beautiful', 'ADJ', 'beautiful', (4, 3, 'PRED')),\n",
       "  ('.', '.', '', (5, 3, 'PUNCT'))],\n",
       " [('the', 'DET:ART', 'the', (1, 2, 'DET')),\n",
       "  ('child', 'N', 'child', (2, 4, 'SUBJ')),\n",
       "  ('was', 'AUX', 'be&PAST&13S', (3, 4, 'AUX')),\n",
       "  ('taken', 'PART', 'take&PASTP', (4, 0, 'ROOT')),\n",
       "  ('to', 'PREP', 'to', (5, 4, 'JCT')),\n",
       "  ('the', 'DET:ART', 'the', (6, 7, 'DET')),\n",
       "  ('hospital', 'N', 'hospital', (7, 5, 'POBJ')),\n",
       "  ('.', '.', '', (8, 4, 'PUNCT'))],\n",
       " [('I', 'PRO:SUB', 'I', (1, 4, 'SUBJ')),\n",
       "  (\"can't\", 'MOD', 'can', (2, 4, 'AUX')),\n",
       "  ('CLITIC', 'NEG', 'not', (3, 2, 'NEG')),\n",
       "  ('think', 'V', 'think', (4, 0, 'ROOT')),\n",
       "  ('of', 'PREP', 'of', (5, 4, 'JCT')),\n",
       "  ('any', 'QN', 'any', (6, 8, 'QUANT')),\n",
       "  ('right', 'ADV', 'right', (7, 8, 'JCT')),\n",
       "  ('now', 'ADV', 'now', (8, 5, 'POBJ')),\n",
       "  ('.', '.', '', (9, 4, 'PUNCT'))],\n",
       " [('I', 'PRO:SUB', 'I', (1, 0, 'INCROOT')),\n",
       "  ('...', '+...', '', (2, 1, 'PUNCT'))]]"
      ]
     },
     "execution_count": 57,
     "metadata": {},
     "output_type": "execute_result"
    }
   ],
   "source": [
    "sentence_data.tagged_sents(participant='PAR',by_files=True)[sentence_fnames[0]]"
   ]
  },
  {
   "cell_type": "code",
   "execution_count": 24,
   "metadata": {},
   "outputs": [],
   "source": [
    "pos_test = [tokenstem for sent in cookie_data.tagged_sents(participant='PAR',by_files=True)[cookie_fnames[0]] for (tokenraw,pos,tokenstem,dependency) in sent]"
   ]
  },
  {
   "cell_type": "code",
   "execution_count": 25,
   "metadata": {},
   "outputs": [],
   "source": [
    "pos_test = ['<EOS>' if tokenstem == '' else tokenstem for tokenstem in pos_test]"
   ]
  },
  {
   "cell_type": "code",
   "execution_count": 33,
   "metadata": {},
   "outputs": [],
   "source": [
    "vocabset = set()"
   ]
  },
  {
   "cell_type": "code",
   "execution_count": 34,
   "metadata": {},
   "outputs": [],
   "source": [
    "# lemm\n",
    "for t in [token.replace('&',' ').replace('-',' ').split(' ')[0] for token in pos_test]:\n",
    "    vocabset.add(t)"
   ]
  },
  {
   "cell_type": "code",
   "execution_count": 49,
   "metadata": {},
   "outputs": [],
   "source": [
    "posset = set([pos for sent in cookie_data.tagged_sents(participant='PAR',by_files=True)[cookie_fnames[0]] for (tokenraw,pos,tokenstem,dependency) in sent])"
   ]
  },
  {
   "cell_type": "code",
   "execution_count": 50,
   "metadata": {},
   "outputs": [],
   "source": [
    "postsettwo = set([pos for sent in cookie_data.tagged_sents(participant='PAR',by_files=True)[cookie_fnames[1]] for (tokenraw,pos,tokenstem,dependency) in sent])"
   ]
  },
  {
   "cell_type": "code",
   "execution_count": 51,
   "metadata": {},
   "outputs": [
    {
     "data": {
      "text/plain": [
       "{'.',\n",
       " '?',\n",
       " 'ADJ',\n",
       " 'ADV',\n",
       " 'AUX',\n",
       " 'COORD',\n",
       " 'COP',\n",
       " 'DET:ART',\n",
       " 'DET:POSS',\n",
       " 'INF',\n",
       " 'MOD',\n",
       " 'N',\n",
       " 'PART',\n",
       " 'PREP',\n",
       " 'PRO:EXIST',\n",
       " 'PRO:INDEF',\n",
       " 'PRO:PER',\n",
       " 'PRO:SUB',\n",
       " 'V'}"
      ]
     },
     "execution_count": 51,
     "metadata": {},
     "output_type": "execute_result"
    }
   ],
   "source": [
    "posset"
   ]
  },
  {
   "cell_type": "code",
   "execution_count": 52,
   "metadata": {},
   "outputs": [
    {
     "data": {
      "text/plain": [
       "{'.',\n",
       " 'ADJ',\n",
       " 'ADV',\n",
       " 'AUX',\n",
       " 'CM',\n",
       " 'CO',\n",
       " 'COORD',\n",
       " 'COP',\n",
       " 'DET:ART',\n",
       " 'DET:NUM',\n",
       " 'INF',\n",
       " 'N',\n",
       " 'PART',\n",
       " 'PREP',\n",
       " 'PRO:EXIST',\n",
       " 'PRO:SUB',\n",
       " 'QN',\n",
       " 'V'}"
      ]
     },
     "execution_count": 52,
     "metadata": {},
     "output_type": "execute_result"
    }
   ],
   "source": [
    "postsettwo"
   ]
  },
  {
   "cell_type": "code",
   "execution_count": 42,
   "metadata": {},
   "outputs": [
    {
     "data": {
      "text/plain": [
       "18"
      ]
     },
     "execution_count": 42,
     "metadata": {},
     "output_type": "execute_result"
    }
   ],
   "source": [
    "len(postsettwo)"
   ]
  },
  {
   "cell_type": "code",
   "execution_count": 44,
   "metadata": {},
   "outputs": [
    {
     "data": {
      "text/plain": [
       "19"
      ]
     },
     "execution_count": 44,
     "metadata": {},
     "output_type": "execute_result"
    }
   ],
   "source": [
    "len(posset)"
   ]
  },
  {
   "cell_type": "code",
   "execution_count": 62,
   "metadata": {},
   "outputs": [
    {
     "data": {
      "text/plain": [
       "23"
      ]
     },
     "execution_count": 62,
     "metadata": {},
     "output_type": "execute_result"
    }
   ],
   "source": [
    "# this one \n",
    "len(postsettwo.union(posset))"
   ]
  },
  {
   "cell_type": "code",
   "execution_count": 67,
   "metadata": {},
   "outputs": [],
   "source": [
    "postsettwo.update(posset)"
   ]
  },
  {
   "cell_type": "code",
   "execution_count": 68,
   "metadata": {},
   "outputs": [
    {
     "data": {
      "text/plain": [
       "23"
      ]
     },
     "execution_count": 68,
     "metadata": {},
     "output_type": "execute_result"
    }
   ],
   "source": [
    "len(postsettwo)"
   ]
  },
  {
   "cell_type": "code",
   "execution_count": 59,
   "metadata": {},
   "outputs": [
    {
     "data": {
      "text/plain": [
       "{'.',\n",
       " 'ADJ',\n",
       " 'ADV',\n",
       " 'AUX',\n",
       " 'COORD',\n",
       " 'COP',\n",
       " 'DET:ART',\n",
       " 'INF',\n",
       " 'N',\n",
       " 'PART',\n",
       " 'PREP',\n",
       " 'PRO:EXIST',\n",
       " 'PRO:SUB',\n",
       " 'V'}"
      ]
     },
     "execution_count": 59,
     "metadata": {},
     "output_type": "execute_result"
    }
   ],
   "source": [
    "postsettwo & posset"
   ]
  },
  {
   "cell_type": "code",
   "execution_count": 54,
   "metadata": {},
   "outputs": [
    {
     "data": {
      "text/plain": [
       "{'?', 'CM', 'CO', 'DET:NUM', 'DET:POSS', 'MOD', 'PRO:INDEF', 'PRO:PER', 'QN'}"
      ]
     },
     "execution_count": 54,
     "metadata": {},
     "output_type": "execute_result"
    }
   ],
   "source": [
    "postsettwo ^ posset"
   ]
  },
  {
   "cell_type": "code",
   "execution_count": 58,
   "metadata": {},
   "outputs": [
    {
     "data": {
      "text/plain": [
       "['CM', 'DET:NUM', 'CO', 'QN']"
      ]
     },
     "execution_count": 58,
     "metadata": {},
     "output_type": "execute_result"
    }
   ],
   "source": [
    "[p for p in postsettwo if p not in posset ]"
   ]
  },
  {
   "cell_type": "code",
   "execution_count": null,
   "metadata": {},
   "outputs": [],
   "source": [
    "postset"
   ]
  },
  {
   "cell_type": "code",
   "execution_count": null,
   "metadata": {},
   "outputs": [],
   "source": [
    "# addtl tags\n",
    "[token.replace('&',' ').replace('-',' ').split(' ') for token in pos_test]"
   ]
  },
  {
   "cell_type": "code",
   "execution_count": null,
   "metadata": {},
   "outputs": [],
   "source": []
  },
  {
   "cell_type": "code",
   "execution_count": 34,
   "metadata": {},
   "outputs": [
    {
     "data": {
      "text/plain": [
       "[[('the', 'DET:ART', 'the', (1, 2, 'DET')),\n",
       "  ('scene', 'N', 'scene', (2, 3, 'SUBJ')),\n",
       "  ('is', 'COP', 'be&3S', (3, 0, 'ROOT')),\n",
       "  ('in', 'PREP', 'in', (4, 3, 'JCT')),\n",
       "  ('the', 'DET:ART', 'the', (5, 6, 'DET')),\n",
       "  ('kitchen', 'N', 'kitchen', (6, 4, 'POBJ')),\n",
       "  ('.', '.', '', (7, 3, 'PUNCT'))],\n",
       " [('the', 'DET:ART', 'the', (1, 2, 'DET')),\n",
       "  ('mother', 'N', 'mother', (2, 4, 'SUBJ')),\n",
       "  ('is', 'AUX', 'be&3S', (3, 4, 'AUX')),\n",
       "  ('wiping', 'PART', 'wipe-PRESP', (4, 0, 'ROOT')),\n",
       "  ('dishes', 'N', 'dish-PL', (5, 4, 'OBJ')),\n",
       "  ('and', 'COORD', 'and', (6, 10, 'LINK')),\n",
       "  ('the', 'DET:ART', 'the', (7, 8, 'DET')),\n",
       "  ('water', 'N', 'water', (8, 10, 'SUBJ')),\n",
       "  ('is', 'AUX', 'be&3S', (9, 10, 'AUX')),\n",
       "  ('running', 'PART', 'run-PRESP', (10, 4, 'CJCT')),\n",
       "  ('on', 'PREP', 'on', (11, 10, 'JCT')),\n",
       "  ('the', 'DET:ART', 'the', (12, 13, 'DET')),\n",
       "  ('floor', 'N', 'floor', (13, 11, 'POBJ')),\n",
       "  ('.', '.', '', (14, 4, 'PUNCT'))],\n",
       " [('a', 'DET:ART', 'a', (1, 2, 'DET')),\n",
       "  ('boy', 'N', 'boy', (2, 4, 'SUBJ')),\n",
       "  ('is', 'AUX', 'be&3S', (3, 4, 'AUX')),\n",
       "  ('trying', 'PART', 'try-PRESP', (4, 0, 'ROOT')),\n",
       "  ('to', 'INF', 'to', (5, 6, 'INF')),\n",
       "  ('get', 'V', 'get', (6, 4, 'COMP')),\n",
       "  ('cookies', 'N', 'cookie-PL', (7, 6, 'OBJ')),\n",
       "  ('out', 'ADV', 'out', (8, 6, 'JCT')),\n",
       "  ('of', 'PREP', 'of', (9, 8, 'JCT')),\n",
       "  ('a', 'DET:ART', 'a', (10, 11, 'DET')),\n",
       "  ('jar', 'N', 'jar', (11, 9, 'POBJ')),\n",
       "  ('and', 'COORD', 'and', (12, 14, 'LINK')),\n",
       "  (\"he's\", 'PRO:SUB', 'he', (13, 14, 'SUBJ')),\n",
       "  ('CLITIC', 'COP', 'be&3S', (14, 4, 'CJCT')),\n",
       "  ('about', 'ADV', 'about', (15, 17, 'JCT')),\n",
       "  ('to', 'INF', 'to', (16, 17, 'INF')),\n",
       "  ('tip', 'V', 'tip', (17, 14, 'CPRED')),\n",
       "  ('over', 'ADV', 'over', (18, 17, 'JCT')),\n",
       "  ('on', 'PREP', 'on', (19, 17, 'JCT')),\n",
       "  ('a', 'DET:ART', 'a', (20, 21, 'DET')),\n",
       "  ('stool', 'N', 'stool', (21, 19, 'POBJ')),\n",
       "  ('.', '.', '', (22, 4, 'PUNCT'))],\n",
       " [('the', 'DET:ART', 'the', (1, 3, 'DET')),\n",
       "  ('little', 'ADJ', 'little', (2, 3, 'MOD')),\n",
       "  ('girl', 'N', 'girl', (3, 5, 'SUBJ')),\n",
       "  ('is', 'AUX', 'be&3S', (4, 5, 'AUX')),\n",
       "  ('reacting', 'PART', 'react-PRESP', (5, 0, 'ROOT')),\n",
       "  ('to', 'PREP', 'to', (6, 5, 'JCT')),\n",
       "  ('his', 'DET:POSS', 'his', (7, 8, 'DET')),\n",
       "  ('falling', 'PART', 'fall-PRESP', (8, 6, 'POBJ')),\n",
       "  ('.', '.', '', (9, 5, 'PUNCT'))],\n",
       " [('it', 'PRO:PER', 'it', (1, 2, 'SUBJ')),\n",
       "  ('seems', 'COP', 'seem-3S', (2, 0, 'ROOT')),\n",
       "  ('to', 'INF', 'to', (3, 4, 'INF')),\n",
       "  ('be', 'COP', 'be', (4, 2, 'COMP')),\n",
       "  ('summer', 'N', 'summer', (5, 4, 'PRED')),\n",
       "  ('out', 'ADV', 'out', (6, 5, 'NJCT')),\n",
       "  ('.', '.', '', (7, 2, 'PUNCT'))],\n",
       " [('the', 'DET:ART', 'the', (1, 2, 'DET')),\n",
       "  ('window', 'N', 'window', (2, 3, 'SUBJ')),\n",
       "  ('is', 'COP', 'be&3S', (3, 0, 'ROOT')),\n",
       "  ('open', 'ADJ', 'open', (4, 3, 'PRED')),\n",
       "  ('.', '.', '', (5, 3, 'PUNCT'))],\n",
       " [('the', 'DET:ART', 'the', (1, 2, 'DET')),\n",
       "  ('curtains', 'N', 'curtain-PL', (2, 4, 'SUBJ')),\n",
       "  ('are', 'AUX', 'be&PRES', (3, 4, 'AUX')),\n",
       "  ('blowing', 'PART', 'blow-PRESP', (4, 0, 'ROOT')),\n",
       "  ('.', '.', '', (5, 4, 'PUNCT'))],\n",
       " [('it', 'PRO:PER', 'it', (1, 3, 'SUBJ')),\n",
       "  ('must', 'MOD', 'must', (2, 3, 'AUX')),\n",
       "  ('be', 'COP', 'be', (3, 0, 'ROOT')),\n",
       "  ('a', 'DET:ART', 'a', (4, 6, 'DET')),\n",
       "  ('gentle', 'ADJ', 'gentle', (5, 6, 'MOD')),\n",
       "  ('breeze', 'N', 'breeze', (6, 3, 'PRED')),\n",
       "  ('.', '.', '', (7, 3, 'PUNCT'))],\n",
       " [(\"there's\", 'PRO:EXIST', 'there', (1, 2, 'SUBJ')),\n",
       "  ('CLITIC', 'COP', 'be&3S', (2, 0, 'ROOT')),\n",
       "  ('grass', 'N', 'grass', (3, 2, 'PRED')),\n",
       "  ('outside', 'ADV', 'outside', (4, 3, 'NJCT')),\n",
       "  ('in', 'PREP', 'in', (5, 4, 'JCT')),\n",
       "  ('the', 'DET:ART', 'the', (6, 7, 'DET')),\n",
       "  ('garden', 'N', 'garden', (7, 5, 'POBJ')),\n",
       "  ('.', '.', '', (8, 2, 'PUNCT'))],\n",
       " [(\"mother's\", 'N', 'mother', (1, 3, 'SUBJ')),\n",
       "  ('CLITIC', 'AUX', 'be&3S', (2, 3, 'AUX')),\n",
       "  ('finished', 'PART', 'finish-PASTP', (3, 0, 'ROOT')),\n",
       "  ('certain', 'ADJ', 'certain', (4, 3, 'PRED')),\n",
       "  ('of', 'PREP', 'of', (5, 4, 'JCT')),\n",
       "  ('the', 'DET:ART', 'the', (6, 7, 'DET')),\n",
       "  ('dishes', 'N', 'dish-PL', (7, 5, 'POBJ')),\n",
       "  ('.', '.', '', (8, 3, 'PUNCT'))],\n",
       " [(\"kitchen's\", 'N', 'kitchen', (1, 2, 'SUBJ')),\n",
       "  ('CLITIC', 'COP', 'be&3S', (2, 0, 'ROOT')),\n",
       "  ('very', 'ADV', 'very', (3, 4, 'JCT')),\n",
       "  ('tidy', 'ADJ', 'tidy', (4, 2, 'PRED')),\n",
       "  ('.', '.', '', (5, 2, 'PUNCT'))],\n",
       " [('the', 'DET:ART', 'the', (1, 2, 'DET')),\n",
       "  ('mother', 'N', 'mother', (2, 3, 'SUBJ')),\n",
       "  ('seems', 'COP', 'seem-3S', (3, 0, 'ROOT')),\n",
       "  ('to', 'INF', 'to', (4, 5, 'INF')),\n",
       "  ('have', 'V', 'have', (5, 3, 'COMP')),\n",
       "  ('nothing', 'PRO:INDEF', 'nothing', (6, 5, 'OBJ')),\n",
       "  ('in', 'PREP', 'in', (7, 6, 'NJCT')),\n",
       "  ('the', 'DET:ART', 'the', (8, 9, 'DET')),\n",
       "  ('house', 'N', 'house', (9, 7, 'POBJ')),\n",
       "  ('to', 'INF', 'to', (10, 11, 'INF')),\n",
       "  ('eat', 'V', 'eat', (11, 6, 'XJCT')),\n",
       "  ('except', 'PREP', 'except', (12, 11, 'JCT')),\n",
       "  ('cookies', 'N', 'cookie-PL', (13, 12, 'POBJ')),\n",
       "  ('in', 'PREP', 'in', (14, 13, 'NJCT')),\n",
       "  ('the', 'DET:ART', 'the', (15, 17, 'DET')),\n",
       "  ('cookie', 'N', 'cookie', (16, 17, 'MOD')),\n",
       "  ('jar', 'N', 'jar', (17, 14, 'POBJ')),\n",
       "  ('.', '.', '', (18, 3, 'PUNCT'))],\n",
       " [('the', 'DET:ART', 'the', (1, 2, 'DET')),\n",
       "  ('children', 'N', 'child&PL', (2, 3, 'SUBJ')),\n",
       "  ('look', 'V', 'look', (3, 0, 'ROOT')),\n",
       "  ('to', 'INF', 'to', (4, 5, 'INF')),\n",
       "  ('be', 'COP', 'be', (5, 3, 'COMP')),\n",
       "  ('almost', 'ADV', 'almost', (6, 5, 'JCT')),\n",
       "  ('about', 'PREP', 'about', (7, 5, 'JCT')),\n",
       "  ('the', 'DET:ART', 'the', (8, 10, 'DET')),\n",
       "  ('same', 'ADJ', 'same', (9, 10, 'MOD')),\n",
       "  ('size', 'N', 'size', (10, 7, 'POBJ')),\n",
       "  ('.', '.', '', (11, 3, 'PUNCT'))],\n",
       " [('perhaps', 'ADV', 'perhaps', (1, 3, 'JCT')),\n",
       "  (\"they're\", 'PRO:SUB', 'they', (2, 3, 'SUBJ')),\n",
       "  ('CLITIC', 'COP', 'be&PRES', (3, 0, 'ROOT')),\n",
       "  ('twins', 'N', 'twin-PL', (4, 3, 'PRED')),\n",
       "  ('.', '.', '', (5, 3, 'PUNCT'))],\n",
       " [(\"they're\", 'PRO:SUB', 'they', (1, 3, 'SUBJ')),\n",
       "  ('CLITIC', 'AUX', 'be&PRES', (2, 3, 'AUX')),\n",
       "  ('dressed', 'PART', 'dress-PASTP', (3, 0, 'ROOT')),\n",
       "  ('for', 'PREP', 'for', (4, 3, 'JCT')),\n",
       "  ('summer', 'N', 'summer', (5, 7, 'MOD')),\n",
       "  ('warm', 'ADJ', 'warm', (6, 7, 'MOD')),\n",
       "  ('weather', 'N', 'weather', (7, 4, 'POBJ')),\n",
       "  ('.', '.', '', (8, 3, 'PUNCT'))],\n",
       " [('you', 'PRO:PER', 'you', (1, 2, 'SUBJ')),\n",
       "  ('want', 'V', 'want', (2, 0, 'ROOT')),\n",
       "  ('more', 'ADV', 'more', (3, 2, 'JCT')),\n",
       "  ('?', '?', '', (4, 2, 'PUNCT'))],\n",
       " [('the', 'DET:ART', 'the', (1, 2, 'DET')),\n",
       "  (\"mother's\", 'N', 'mother', (2, 3, 'SUBJ')),\n",
       "  ('CLITIC', 'COP', 'be&3S', (3, 0, 'ROOT')),\n",
       "  ('in', 'PREP', 'in', (4, 3, 'JCT')),\n",
       "  ('a', 'DET:ART', 'a', (5, 8, 'DET')),\n",
       "  ('short', 'ADJ', 'short', (6, 7, 'MOD')),\n",
       "  ('sleeve', 'N', 'sleeve', (7, 8, 'MOD')),\n",
       "  ('dress', 'N', 'dress', (8, 4, 'POBJ')),\n",
       "  ('.', '.', '', (9, 3, 'PUNCT'))],\n",
       " [(\"I'll\", 'PRO:SUB', 'I', (1, 5, 'SUBJ')),\n",
       "  ('CLITIC', 'MOD', 'will', (2, 5, 'AUX')),\n",
       "  ('hafta', 'MOD', 'have', (3, 5, 'AUX')),\n",
       "  ('CLITIC', 'INF', 'to', (4, 5, 'INF')),\n",
       "  ('say', 'V', 'say', (5, 0, 'ROOT')),\n",
       "  (\"it's\", 'PRO:PER', 'it', (6, 7, 'SUBJ')),\n",
       "  ('CLITIC', 'COP', 'be&3S', (7, 5, 'COMP')),\n",
       "  ('warm', 'ADJ', 'warm', (8, 7, 'PRED')),\n",
       "  ('.', '.', '', (9, 5, 'PUNCT'))]]"
      ]
     },
     "execution_count": 34,
     "metadata": {},
     "output_type": "execute_result"
    }
   ],
   "source": [
    "cookie_data.tagged_sents(participant='PAR',by_files=True)[cookie_fnames[0]]"
   ]
  },
  {
   "cell_type": "code",
   "execution_count": 59,
   "metadata": {},
   "outputs": [
    {
     "data": {
      "text/plain": [
       "['I',\n",
       " 'wrote',\n",
       " 'with',\n",
       " 'my',\n",
       " 'pencil',\n",
       " '.',\n",
       " 'the',\n",
       " 'tree',\n",
       " 'is',\n",
       " 'beautiful',\n",
       " '.',\n",
       " 'the',\n",
       " 'child',\n",
       " 'was',\n",
       " 'taken',\n",
       " 'to',\n",
       " 'the',\n",
       " 'hospital',\n",
       " '.',\n",
       " 'I',\n",
       " \"can't\",\n",
       " 'think',\n",
       " 'of',\n",
       " 'any',\n",
       " 'right',\n",
       " 'now',\n",
       " '.',\n",
       " 'I',\n",
       " '...']"
      ]
     },
     "execution_count": 59,
     "metadata": {},
     "output_type": "execute_result"
    }
   ],
   "source": [
    "sentence_data.words(participant='PAR',by_files=True)[sentence_fnames[0]]"
   ]
  },
  {
   "cell_type": "code",
   "execution_count": null,
   "metadata": {},
   "outputs": [],
   "source": [
    "sentence"
   ]
  },
  {
   "cell_type": "code",
   "execution_count": 39,
   "metadata": {},
   "outputs": [
    {
     "data": {
      "text/plain": [
       "[['I', 'wrote', 'with', 'my', 'pencil', '.'],\n",
       " ['the', 'tree', 'is', 'beautiful', '.'],\n",
       " ['the', 'child', 'was', 'taken', 'to', 'the', 'hospital', '.'],\n",
       " ['I', \"can't\", 'think', 'of', 'any', 'right', 'now', '.'],\n",
       " ['I', '...']]"
      ]
     },
     "execution_count": 39,
     "metadata": {},
     "output_type": "execute_result"
    }
   ],
   "source": [
    "sentence_data.sents(participant='PAR',by_files=True)[sentence_fnames[0]]"
   ]
  },
  {
   "cell_type": "code",
   "execution_count": 40,
   "metadata": {},
   "outputs": [
    {
     "data": {
      "text/plain": [
       "Counter({'I': 3,\n",
       "         'wrote': 1,\n",
       "         'with': 1,\n",
       "         'my': 1,\n",
       "         'pencil': 1,\n",
       "         '.': 4,\n",
       "         'the': 3,\n",
       "         'tree': 1,\n",
       "         'is': 1,\n",
       "         'beautiful': 1,\n",
       "         'child': 1,\n",
       "         'was': 1,\n",
       "         'taken': 1,\n",
       "         'to': 1,\n",
       "         'hospital': 1,\n",
       "         \"can't\": 1,\n",
       "         'think': 1,\n",
       "         'of': 1,\n",
       "         'any': 1,\n",
       "         'right': 1,\n",
       "         'now': 1,\n",
       "         '...': 1})"
      ]
     },
     "execution_count": 40,
     "metadata": {},
     "output_type": "execute_result"
    }
   ],
   "source": [
    "sentence_data.word_frequency(participant='PAR',by_files=True)[sentence_fnames[0]]"
   ]
  },
  {
   "cell_type": "code",
   "execution_count": 43,
   "metadata": {},
   "outputs": [
    {
     "data": {
      "text/plain": [
       "5.8"
      ]
     },
     "execution_count": 43,
     "metadata": {},
     "output_type": "execute_result"
    }
   ],
   "source": [
    "sentence_data.MLU(participant='PAR')[sentence_fnames[0]]"
   ]
  },
  {
   "cell_type": "code",
   "execution_count": 47,
   "metadata": {},
   "outputs": [
    {
     "data": {
      "text/plain": [
       "5.8"
      ]
     },
     "execution_count": 47,
     "metadata": {},
     "output_type": "execute_result"
    }
   ],
   "source": [
    "#mlu - morphemes\n",
    "sentence_data.MLUm(participant='PAR')[sentence_fnames[0]]"
   ]
  },
  {
   "cell_type": "code",
   "execution_count": 48,
   "metadata": {},
   "outputs": [
    {
     "data": {
      "text/plain": [
       "5.0"
      ]
     },
     "execution_count": 48,
     "metadata": {},
     "output_type": "execute_result"
    }
   ],
   "source": [
    "# mlu - worrds\n",
    "sentence_data.MLUw(participant='PAR')[sentence_fnames[0]]"
   ]
  },
  {
   "cell_type": "code",
   "execution_count": 49,
   "metadata": {},
   "outputs": [
    {
     "data": {
      "text/plain": [
       "30"
      ]
     },
     "execution_count": 49,
     "metadata": {},
     "output_type": "execute_result"
    }
   ],
   "source": [
    "# index of productive syntax\n",
    "sentence_data.IPSyn(participant='PAR')[sentence_fnames[0]]"
   ]
  },
  {
   "cell_type": "code",
   "execution_count": 50,
   "metadata": {},
   "outputs": [
    {
     "data": {
      "text/plain": [
       "0.84"
      ]
     },
     "execution_count": 50,
     "metadata": {},
     "output_type": "execute_result"
    }
   ],
   "source": [
    "#Type token ratio\n",
    "sentence_data.TTR(participant='PAR')[sentence_fnames[0]]"
   ]
  },
  {
   "cell_type": "code",
   "execution_count": 46,
   "metadata": {},
   "outputs": [
    {
     "data": {
      "text/plain": [
       "{'',\n",
       " '!',\n",
       " '+\"/.',\n",
       " '+...',\n",
       " '+..?',\n",
       " '+/.',\n",
       " '+//.',\n",
       " '+/?',\n",
       " '.',\n",
       " '?',\n",
       " 'ADJ',\n",
       " 'ADV',\n",
       " 'ADV:TEM',\n",
       " 'AUX',\n",
       " 'BEG',\n",
       " 'CM',\n",
       " 'CO',\n",
       " 'COMP',\n",
       " 'CONJ',\n",
       " 'COORD',\n",
       " 'COP',\n",
       " 'DET:ART',\n",
       " 'DET:DEM',\n",
       " 'DET:NUM',\n",
       " 'DET:POSS',\n",
       " 'END',\n",
       " 'GRAND#N',\n",
       " 'IN#ADJ',\n",
       " 'INF',\n",
       " 'META',\n",
       " 'MID#N',\n",
       " 'MOD',\n",
       " 'N',\n",
       " 'N:GERUND',\n",
       " 'N:LET',\n",
       " 'N:PROP',\n",
       " 'N:PT',\n",
       " 'NEG',\n",
       " 'NEO',\n",
       " 'PART',\n",
       " 'POST',\n",
       " 'PREP',\n",
       " 'PRO:DEM',\n",
       " 'PRO:EXIST',\n",
       " 'PRO:INDEF',\n",
       " 'PRO:INT',\n",
       " 'PRO:OBJ',\n",
       " 'PRO:PER',\n",
       " 'PRO:POSS',\n",
       " 'PRO:REFL',\n",
       " 'PRO:REL',\n",
       " 'PRO:SUB',\n",
       " 'QN',\n",
       " 'UN#ADJ',\n",
       " 'UN#ADV',\n",
       " 'V'}"
      ]
     },
     "execution_count": 46,
     "metadata": {},
     "output_type": "execute_result"
    }
   ],
   "source": [
    "sentence_data.part_of_speech_tags(participant='PAR')"
   ]
  },
  {
   "cell_type": "code",
   "execution_count": 18,
   "metadata": {},
   "outputs": [
    {
     "data": {
      "text/plain": [
       "['/Users/renee/Documents/WIS_Spr20/DL/FinalProj/Pitt/Dementia/sentence/468-0.cha',\n",
       " '/Users/renee/Documents/WIS_Spr20/DL/FinalProj/Pitt/Dementia/sentence/062-3.cha',\n",
       " '/Users/renee/Documents/WIS_Spr20/DL/FinalProj/Pitt/Dementia/sentence/001-0.cha',\n",
       " '/Users/renee/Documents/WIS_Spr20/DL/FinalProj/Pitt/Dementia/sentence/674-0.cha',\n",
       " '/Users/renee/Documents/WIS_Spr20/DL/FinalProj/Pitt/Dementia/sentence/689-0.cha',\n",
       " '/Users/renee/Documents/WIS_Spr20/DL/FinalProj/Pitt/Dementia/sentence/046-2.cha',\n",
       " '/Users/renee/Documents/WIS_Spr20/DL/FinalProj/Pitt/Dementia/sentence/711-0.cha',\n",
       " '/Users/renee/Documents/WIS_Spr20/DL/FinalProj/Pitt/Dementia/sentence/529-0.cha',\n",
       " '/Users/renee/Documents/WIS_Spr20/DL/FinalProj/Pitt/Dementia/sentence/471-0.cha',\n",
       " '/Users/renee/Documents/WIS_Spr20/DL/FinalProj/Pitt/Dementia/sentence/319-0.cha']"
      ]
     },
     "execution_count": 18,
     "metadata": {},
     "output_type": "execute_result"
    }
   ],
   "source": [
    "sentence_fnames[:10]"
   ]
  },
  {
   "cell_type": "code",
   "execution_count": null,
   "metadata": {},
   "outputs": [],
   "source": []
  }
 ],
 "metadata": {
  "kernelspec": {
   "display_name": "Python dl1010",
   "language": "python",
   "name": "dl1010"
  },
  "language_info": {
   "codemirror_mode": {
    "name": "ipython",
    "version": 3
   },
   "file_extension": ".py",
   "mimetype": "text/x-python",
   "name": "python",
   "nbconvert_exporter": "python",
   "pygments_lexer": "ipython3",
   "version": "3.7.7"
  }
 },
 "nbformat": 4,
 "nbformat_minor": 4
}
